{
 "cells": [
  {
   "cell_type": "markdown",
   "metadata": {},
   "source": [
    "# Introduction\n",
    "\n",
    "## Supervised Learning\n",
    "\n",
    "Supervised learning is where you have input variables (X) and an output variable (y) and you use an algorithm to learn the mapping function from the input to the output.\n",
    "\n",
    "                                                    y = f(X)\n",
    "                                                    \n",
    "### Regression : \n",
    "A supervised learning problem where we try to map input variable (X) to continuous output (y). For example : Trying to predict the house price on the basis of number of rooms, built area etc.\n",
    "\n",
    "### Classification :\n",
    "A supervised learning problem where we try to map input variable (X) to discrete output (y). For example : Marking mails or SMSs as spam/not-spam on the basis of its content, origin etc. \n",
    "\n",
    "## Unsupervised Learning\n",
    "\n",
    "Unsupervised learning is where you only have input data (X) and no corresponding output variables. The goal for unsupervised learning is to model the underlying structure or distribution in the data in order to learn more about the data."
   ]
  },
  {
   "cell_type": "markdown",
   "metadata": {},
   "source": [
    "# Linear Regression\n",
    "\n",
    "<img src=\"media/img1.png\" alt=\"Regression\" style=\"width : 500px;\"/>\n",
    "\n",
    "We will mainly cover three topics : \n",
    "1. Hypothesis Function - Defining our function f(x)\n",
    "2. Cost Function - Checking the performance of out model/function.\n",
    "3. Optimization (Gradient Descent) - Improving the performance of our model/function"
   ]
  },
  {
   "cell_type": "markdown",
   "metadata": {},
   "source": [
    "## Hypothesis Function\n",
    "\n",
    "The hypothesis function for univariate linear regression problem is :\n",
    "$$\\widehat{y} = w_{0} + w_{1}x$$\n",
    "\n",
    "$\\widehat{y}$ = Output predicted by our model.\n",
    "\n",
    "$w_{0} , w_{1}$ = Parameters of our model, also known as weights.\n",
    "\n",
    "$x$ = The input feature\n",
    "\n"
   ]
  },
  {
   "cell_type": "markdown",
   "metadata": {},
   "source": [
    "The hypothesis function for multivariate linear regression problem is :\n",
    "\n",
    "$$\\widehat{y} = w_{0} + w_{1}x_{1} + w_{2}x_{2} + .... + w_{m}x_{m}$$\n",
    "\n",
    "$\\widehat{y}$ = Output predicted by our model.\n",
    "\n",
    "$w_{0} , w_{1} , w_{2} , ... , w_{m}$ = Parameters of our model, also known as weights (W).\n",
    "\n",
    "$x_{1} , x_{2} , ... , x_{m}$ = Values of our input feature vector (X).\n",
    "\n",
    "$m$ = Number of features\n",
    "\n",
    "\n",
    "Any set of $W = [w_{0} , w_{1} , w_{2} , ... , w_{m}]$ uniquely identifies a model."
   ]
  },
  {
   "cell_type": "markdown",
   "metadata": {},
   "source": [
    "For example, in a univariate problem, for a particular value of $w_{0}, w_{1}$, we can have this plot : \n",
    "\n",
    "<img src=\"media/img4.png\" alt=\"Regression\" style=\"width : 500px;\"/>\n"
   ]
  },
  {
   "cell_type": "markdown",
   "metadata": {},
   "source": [
    "## Cost Function\n",
    "\n",
    "It is used to check how good or bad our current model is performing.\n",
    "\n",
    "Cost function of our model/function parameterized by $W$,\n",
    "$$ J(W) = \\frac{1}{n} \\sum_{i=1}^{n} (\\widehat{y_{i}} - y_{i})^{2}$$\n",
    "\n",
    "$W = [w_{0},w_{1},w_{2},...w_{m}]$\n",
    "\n",
    "$\\widehat{y_{i}}$ = Output predicted by our model for $i^{th}$ input\n",
    "\n",
    "$y_{i}$ = Actual output for $i^{th}$ input\n",
    "\n",
    "$n$ = Number of data points\n",
    "\n",
    "#### So our ultimate objective is to minimize the cost."
   ]
  },
  {
   "cell_type": "markdown",
   "metadata": {},
   "source": [
    "## Optimization (Gradient Descent)\n",
    "\n",
    "If our model is not performing good we need to train it. Training a model means changing/tuning the value of W (weight/parameters of our model), so that the cost decreases. \n",
    "\n",
    "Let us assusme that,\n",
    "$$\\widehat{y} = w_{1}x_{1}$$\n",
    "\n",
    "Hence our cost function becomes : \n",
    "$$ J(w_{1}) = \\frac{1}{n} \\sum_{i=1}^{n} (w_{1}(x_{1}^{(i)}) - y_{i})^{2}$$\n",
    "\n",
    "Plotting $J(w_{1})$ against $w_{1}$:\n",
    "\n",
    "<img src=\"media/img5.png\" alt=\"Regression\" style=\"width : 500px;\"/>\n",
    "\n",
    "In two dimension, the plot would look something like this:\n",
    "\n",
    "<img src=\"media/img6.jpg\" alt=\"Regression\" style=\"width : 500px;\"/>\n",
    "\n",
    "It would look scary in higher dimensions, so lets leave that for now!\n",
    "\n",
    "\n",
    "Lets not forget that our ultimate goal is to minimize the cost $J(W)$. To minimize $J(W)$ we'll perform gradient decent steps iteratively. \n",
    "\n",
    "One step of gradient descent is : \n",
    "\n",
    "For all weights $w_{j}$ :\n",
    "\n",
    "$$w_{j} = w_{j} - \\alpha \\frac{\\partial}{\\partial w_{j}} J(W)$$\n",
    "\n",
    "$\\alpha$ = Learning rate\n",
    "\n",
    "$\\frac{\\partial}{\\partial w_{j}} J(W)$ = Partial derivative of cost function $J(W)$ w.r.t. $w_{i}$\n",
    "\n",
    "$$\\frac{\\partial}{\\partial w_{j}} J(W) = \\frac{2}{n} \\sum_{i=1}^{n}(\\widehat{y_{i}} - y_{i})x_{j}^{(i)}$$\n",
    "\n",
    "This gradient descent step is done repetitively untill the learning is stopped.\n",
    "\n",
    "<img src=\"media/img7.png\" alt=\"Regression\" style=\"width : 500px; height : 400px;\"/>\n",
    "\n",
    "<img src=\"media/img8.gif\" alt=\"Regression\" style=\"width : 500px;\"/>"
   ]
  },
  {
   "cell_type": "code",
   "execution_count": 3,
   "metadata": {},
   "outputs": [],
   "source": [
    "import numpy as np\n",
    "import pandas as pd\n",
    "import matplotlib.pyplot as plt\n",
    "from sklearn.linear_model import LinearRegression\n",
    "from sklearn.metrics import mean_squared_error\n",
    "%matplotlib inline"
   ]
  },
  {
   "cell_type": "code",
   "execution_count": 39,
   "metadata": {},
   "outputs": [
    {
     "data": {
      "image/png": "[encoded data removed]",
      "text/plain": [
       "<Figure size 432x288 with 1 Axes>"
      ]
     },
     "metadata": {
      "needs_background": "light"
     },
     "output_type": "display_data"
    }
   ],
   "source": [
    "X = np.arange(30)\n",
    "y = 3 * X\n",
    "plt.scatter(X,y)\n",
    "plt.plot(X,y_pred,color='red')\n",
    "plt.xlabel('X')\n",
    "plt.ylabel('Y')\n",
    "plt.show()"
   ]
  },
  {
   "cell_type": "code",
   "execution_count": 5,
   "metadata": {},
   "outputs": [
    {
     "data": {
      "text/plain": [
       "LinearRegression(copy_X=True, fit_intercept=True, n_jobs=None,\n",
       "         normalize=False)"
      ]
     },
     "execution_count": 5,
     "metadata": {},
     "output_type": "execute_result"
    }
   ],
   "source": [
    "model = LinearRegression()\n",
    "model.fit(X.reshape((-1,1)),y)"
   ]
  },
  {
   "cell_type": "code",
   "execution_count": 6,
   "metadata": {},
   "outputs": [
    {
     "data": {
      "text/plain": [
       "array([3.])"
      ]
     },
     "execution_count": 6,
     "metadata": {},
     "output_type": "execute_result"
    }
   ],
   "source": [
    "model.coef_"
   ]
  },
  {
   "cell_type": "code",
   "execution_count": 38,
   "metadata": {},
   "outputs": [
    {
     "name": "stdout",
     "output_type": "stream",
     "text": [
      "8.133155932828631e-29\n"
     ]
    }
   ],
   "source": [
    "y_pred = model.predict(X.reshape(-1,1))\n",
    "mse = mean_squared_error(y_pred, y)\n",
    "print(mse)"
   ]
  },
  {
   "cell_type": "markdown",
   "metadata": {},
   "source": [
    "<h1>HOUSE DATA MODEL<h1>"
   ]
  },
  {
   "cell_type": "code",
   "execution_count": 41,
   "metadata": {},
   "outputs": [
    {
     "data": {
      "text/html": [
       "<div>\n",
       "<style scoped>\n",
       "    .dataframe tbody tr th:only-of-type {\n",
       "        vertical-align: middle;\n",
       "    }\n",
       "\n",
       "    .dataframe tbody tr th {\n",
       "        vertical-align: top;\n",
       "    }\n",
       "\n",
       "    .dataframe thead th {\n",
       "        text-align: right;\n",
       "    }\n",
       "</style>\n",
       "<table border=\"1\" class=\"dataframe\">\n",
       "  <thead>\n",
       "    <tr style=\"text-align: right;\">\n",
       "      <th></th>\n",
       "      <th>id</th>\n",
       "      <th>date</th>\n",
       "      <th>price</th>\n",
       "      <th>bedrooms</th>\n",
       "      <th>bathrooms</th>\n",
       "      <th>sqft_living</th>\n",
       "      <th>sqft_lot</th>\n",
       "      <th>floors</th>\n",
       "      <th>waterfront</th>\n",
       "      <th>view</th>\n",
       "      <th>...</th>\n",
       "      <th>grade</th>\n",
       "      <th>sqft_above</th>\n",
       "      <th>sqft_basement</th>\n",
       "      <th>yr_built</th>\n",
       "      <th>yr_renovated</th>\n",
       "      <th>zipcode</th>\n",
       "      <th>lat</th>\n",
       "      <th>long</th>\n",
       "      <th>sqft_living15</th>\n",
       "      <th>sqft_lot15</th>\n",
       "    </tr>\n",
       "  </thead>\n",
       "  <tbody>\n",
       "    <tr>\n",
       "      <th>0</th>\n",
       "      <td>7129300520</td>\n",
       "      <td>20141013T000000</td>\n",
       "      <td>221900.0</td>\n",
       "      <td>3</td>\n",
       "      <td>1.00</td>\n",
       "      <td>1180</td>\n",
       "      <td>5650</td>\n",
       "      <td>1.0</td>\n",
       "      <td>0</td>\n",
       "      <td>0</td>\n",
       "      <td>...</td>\n",
       "      <td>7</td>\n",
       "      <td>1180</td>\n",
       "      <td>0</td>\n",
       "      <td>1955</td>\n",
       "      <td>0</td>\n",
       "      <td>98178</td>\n",
       "      <td>47.5112</td>\n",
       "      <td>-122.257</td>\n",
       "      <td>1340</td>\n",
       "      <td>5650</td>\n",
       "    </tr>\n",
       "    <tr>\n",
       "      <th>1</th>\n",
       "      <td>6414100192</td>\n",
       "      <td>20141209T000000</td>\n",
       "      <td>538000.0</td>\n",
       "      <td>3</td>\n",
       "      <td>2.25</td>\n",
       "      <td>2570</td>\n",
       "      <td>7242</td>\n",
       "      <td>2.0</td>\n",
       "      <td>0</td>\n",
       "      <td>0</td>\n",
       "      <td>...</td>\n",
       "      <td>7</td>\n",
       "      <td>2170</td>\n",
       "      <td>400</td>\n",
       "      <td>1951</td>\n",
       "      <td>1991</td>\n",
       "      <td>98125</td>\n",
       "      <td>47.7210</td>\n",
       "      <td>-122.319</td>\n",
       "      <td>1690</td>\n",
       "      <td>7639</td>\n",
       "    </tr>\n",
       "    <tr>\n",
       "      <th>2</th>\n",
       "      <td>5631500400</td>\n",
       "      <td>20150225T000000</td>\n",
       "      <td>180000.0</td>\n",
       "      <td>2</td>\n",
       "      <td>1.00</td>\n",
       "      <td>770</td>\n",
       "      <td>10000</td>\n",
       "      <td>1.0</td>\n",
       "      <td>0</td>\n",
       "      <td>0</td>\n",
       "      <td>...</td>\n",
       "      <td>6</td>\n",
       "      <td>770</td>\n",
       "      <td>0</td>\n",
       "      <td>1933</td>\n",
       "      <td>0</td>\n",
       "      <td>98028</td>\n",
       "      <td>47.7379</td>\n",
       "      <td>-122.233</td>\n",
       "      <td>2720</td>\n",
       "      <td>8062</td>\n",
       "    </tr>\n",
       "    <tr>\n",
       "      <th>3</th>\n",
       "      <td>2487200875</td>\n",
       "      <td>20141209T000000</td>\n",
       "      <td>604000.0</td>\n",
       "      <td>4</td>\n",
       "      <td>3.00</td>\n",
       "      <td>1960</td>\n",
       "      <td>5000</td>\n",
       "      <td>1.0</td>\n",
       "      <td>0</td>\n",
       "      <td>0</td>\n",
       "      <td>...</td>\n",
       "      <td>7</td>\n",
       "      <td>1050</td>\n",
       "      <td>910</td>\n",
       "      <td>1965</td>\n",
       "      <td>0</td>\n",
       "      <td>98136</td>\n",
       "      <td>47.5208</td>\n",
       "      <td>-122.393</td>\n",
       "      <td>1360</td>\n",
       "      <td>5000</td>\n",
       "    </tr>\n",
       "    <tr>\n",
       "      <th>4</th>\n",
       "      <td>1954400510</td>\n",
       "      <td>20150218T000000</td>\n",
       "      <td>510000.0</td>\n",
       "      <td>3</td>\n",
       "      <td>2.00</td>\n",
       "      <td>1680</td>\n",
       "      <td>8080</td>\n",
       "      <td>1.0</td>\n",
       "      <td>0</td>\n",
       "      <td>0</td>\n",
       "      <td>...</td>\n",
       "      <td>8</td>\n",
       "      <td>1680</td>\n",
       "      <td>0</td>\n",
       "      <td>1987</td>\n",
       "      <td>0</td>\n",
       "      <td>98074</td>\n",
       "      <td>47.6168</td>\n",
       "      <td>-122.045</td>\n",
       "      <td>1800</td>\n",
       "      <td>7503</td>\n",
       "    </tr>\n",
       "  </tbody>\n",
       "</table>\n",
       "<p>5 rows × 21 columns</p>\n",
       "</div>"
      ],
      "text/plain": [
       "           id             date     price  bedrooms  bathrooms  sqft_living  \\\n",
       "0  7129300520  20141013T000000  221900.0         3       1.00         1180   \n",
       "1  6414100192  20141209T000000  538000.0         3       2.25         2570   \n",
       "2  5631500400  20150225T000000  180000.0         2       1.00          770   \n",
       "3  2487200875  20141209T000000  604000.0         4       3.00         1960   \n",
       "4  1954400510  20150218T000000  510000.0         3       2.00         1680   \n",
       "\n",
       "   sqft_lot  floors  waterfront  view     ...      grade  sqft_above  \\\n",
       "0      5650     1.0           0     0     ...          7        1180   \n",
       "1      7242     2.0           0     0     ...          7        2170   \n",
       "2     10000     1.0           0     0     ...          6         770   \n",
       "3      5000     1.0           0     0     ...          7        1050   \n",
       "4      8080     1.0           0     0     ...          8        1680   \n",
       "\n",
       "   sqft_basement  yr_built  yr_renovated  zipcode      lat     long  \\\n",
       "0              0      1955             0    98178  47.5112 -122.257   \n",
       "1            400      1951          1991    98125  47.7210 -122.319   \n",
       "2              0      1933             0    98028  47.7379 -122.233   \n",
       "3            910      1965             0    98136  47.5208 -122.393   \n",
       "4              0      1987             0    98074  47.6168 -122.045   \n",
       "\n",
       "   sqft_living15  sqft_lot15  \n",
       "0           1340        5650  \n",
       "1           1690        7639  \n",
       "2           2720        8062  \n",
       "3           1360        5000  \n",
       "4           1800        7503  \n",
       "\n",
       "[5 rows x 21 columns]"
      ]
     },
     "execution_count": 41,
     "metadata": {},
     "output_type": "execute_result"
    }
   ],
   "source": [
    "data = pd.read_csv('kc_house_data.csv')\n",
    "data.head()"
   ]
  },
  {
   "cell_type": "code",
   "execution_count": 42,
   "metadata": {},
   "outputs": [
    {
     "name": "stdout",
     "output_type": "stream",
     "text": [
      "(21613, 1)\n",
      "(21613,)\n"
     ]
    }
   ],
   "source": [
    "cols_to_be_used = data[['sqft_living']]\n",
    "X = np.array(cols_to_be_used)\n",
    "y = np.array(data['price'])\n",
    "print(X.shape)\n",
    "print(y.shape)"
   ]
  },
  {
   "cell_type": "code",
   "execution_count": 48,
   "metadata": {},
   "outputs": [
    {
     "data": {
      "image/png": "[encoded data removed]",
      "text/plain": [
       "<Figure size 432x288 with 1 Axes>"
      ]
     },
     "metadata": {
      "needs_background": "light"
     },
     "output_type": "display_data"
    }
   ],
   "source": [
    "plt.scatter(X,y)\n",
    "plt.title(\"I don't feel so good Mr. Stark represented on a graph\")\n",
    "plt.xlabel(\"Sqft Living\")\n",
    "plt.ylabel(\"price\")\n",
    "plt.show()"
   ]
  },
  {
   "cell_type": "code",
   "execution_count": 50,
   "metadata": {},
   "outputs": [
    {
     "data": {
      "text/plain": [
       "LinearRegression(copy_X=True, fit_intercept=True, n_jobs=None,\n",
       "         normalize=False)"
      ]
     },
     "execution_count": 50,
     "metadata": {},
     "output_type": "execute_result"
    }
   ],
   "source": [
    "peter_parker = LinearRegression()\n",
    "peter_parker.fit(X,y)"
   ]
  },
  {
   "cell_type": "code",
   "execution_count": 57,
   "metadata": {},
   "outputs": [
    {
     "name": "stdout",
     "output_type": "stream",
     "text": [
      "68351286833.039825\n"
     ]
    },
    {
     "data": {
      "image/png": "[encoded data removed]",
      "text/plain": [
       "<Figure size 432x288 with 1 Axes>"
      ]
     },
     "metadata": {
      "needs_background": "light"
     },
     "output_type": "display_data"
    }
   ],
   "source": [
    "why_pred = peter_parker.predict(X)\n",
    "sed_lyf = mean_squared_error(why_pred, y)\n",
    "plt.plot(X, why_pred)\n",
    "plt.scatter(X, y, color = 'red')\n",
    "plt.show\n",
    "print(sed_lyf)"
   ]
  },
  {
   "cell_type": "code",
   "execution_count": 76,
   "metadata": {},
   "outputs": [
    {
     "name": "stdout",
     "output_type": "stream",
     "text": [
      "62980654272.72017\n"
     ]
    },
    {
     "data": {
      "image/png": "[encoded data removed]",
      "text/plain": [
       "<Figure size 432x288 with 1 Axes>"
      ]
     },
     "metadata": {
      "needs_background": "light"
     },
     "output_type": "display_data"
    }
   ],
   "source": [
    "peter_parker.fit(X**1.9,y)\n",
    "why_not_pred = peter_parker.predict(X**1.9)\n",
    "happy_lyf = mean_squared_error(why_not_pred, y)\n",
    "plt.scatter(X, y)\n",
    "plt.scatter(X, why_not_pred, color='red')\n",
    "plt.show\n",
    "print(happy_lyf)"
   ]
  },
  {
   "cell_type": "code",
   "execution_count": null,
   "metadata": {},
   "outputs": [],
   "source": []
  }
 ],
 "metadata": {
  "kernelspec": {
   "display_name": "Python 3",
   "language": "python",
   "name": "python3"
  },
  "language_info": {
   "codemirror_mode": {
    "name": "ipython",
    "version": 3
   },
   "file_extension": ".py",
   "mimetype": "text/x-python",
   "name": "python",
   "nbconvert_exporter": "python",
   "pygments_lexer": "ipython3",
   "version": "3.7.1"
  }
 },
 "nbformat": 4,
 "nbformat_minor": 2
}
